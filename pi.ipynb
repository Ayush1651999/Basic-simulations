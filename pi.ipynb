{
 "cells": [
  {
   "cell_type": "code",
   "execution_count": 6,
   "metadata": {},
   "outputs": [
    {
     "name": "stdout",
     "output_type": "stream",
     "text": [
      "3.132356507962179\n"
     ]
    }
   ],
   "source": [
    "import numpy as np\n",
    "import math\n",
    "\n",
    "def f(x):\n",
    "    y = math.sqrt(1/(1-x*x))\n",
    "    return y\n",
    "\n",
    "N=100000\n",
    "\n",
    "a = np.linspace(-1, 1, N)\n",
    "da = a[1]-a[0]\n",
    "\n",
    "pi=0\n",
    "\n",
    "for i in range(1,N-1):\n",
    "#     print(a[i])\n",
    "    pi+=da*f(a[i])\n",
    "    \n",
    "print(pi)"
   ]
  }
 ],
 "metadata": {
  "kernelspec": {
   "display_name": "Python 3",
   "language": "python",
   "name": "python3"
  },
  "language_info": {
   "codemirror_mode": {
    "name": "ipython",
    "version": 3
   },
   "file_extension": ".py",
   "mimetype": "text/x-python",
   "name": "python",
   "nbconvert_exporter": "python",
   "pygments_lexer": "ipython3",
   "version": "3.6.9"
  }
 },
 "nbformat": 4,
 "nbformat_minor": 2
}
